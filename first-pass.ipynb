{
 "cells": [
  {
   "cell_type": "code",
   "execution_count": 1,
   "metadata": {
    "collapsed": false
   },
   "outputs": [
    {
     "name": "stdout",
     "output_type": "stream",
     "text": [
      "3.6.3 (default, Nov 13 2017, 08:48:07) \n",
      "[GCC 4.2.1 Compatible Apple LLVM 8.0.0 (clang-800.0.42.1)]\n"
     ]
    }
   ],
   "source": [
    "import sys\n",
    "print(sys.version)"
   ]
  },
  {
   "cell_type": "code",
   "execution_count": 2,
   "metadata": {
    "collapsed": true
   },
   "outputs": [],
   "source": [
    "import gensim"
   ]
  },
  {
   "cell_type": "markdown",
   "metadata": {},
   "source": [
    "I'm going to work with the Courtlistener Supreme Court opinions dataset, found at [https://www.courtlistener.com/api/bulk-data/opinions/scotus.tar.gz](https://www.courtlistener.com/api/bulk-data/opinions/scotus.tar.gz) --- they're a nonprofit without a lot of bandwidth, so leave a good half an hour to download it even on a fast connection --- which has been previously downloaded into supcourt and then unzipped into a bunch of individual case jsons (there are a lot of them)"
   ]
  },
  {
   "cell_type": "markdown",
   "metadata": {},
   "source": [
    "If you look at the data, you'll see that each JSON has a \"html\" field with a html-ized version of the opinion, as well as a \"plain_text\" field... but that the latter is sometimes empty.  So in order to extract texts, we'll try and get it out of plain_text first; if there's no plain text, we'll use beautiful soup to extract from html (or from several other alternate html fields)"
   ]
  },
  {
   "cell_type": "code",
   "execution_count": 13,
   "metadata": {
    "collapsed": true
   },
   "outputs": [],
   "source": [
    "from bs4 import BeautifulSoup\n",
    "def extract_text(html):\n",
    "    soup = BeautifulSoup(html, \"lxml\")\n",
    "    for crap in soup([\"script\", \"style\", \"meta\"]):\n",
    "        crap.extract()\n",
    "    return soup.get_text()"
   ]
  },
  {
   "cell_type": "code",
   "execution_count": 14,
   "metadata": {
    "collapsed": false
   },
   "outputs": [
    {
     "name": "stdout",
     "output_type": "stream",
     "text": [
      "The Rule of Law in the Real WorldThe Rule of Law in the Real WorldPaul Gowder\"Paul Gowder's masterpiece articulates a new vision of the rule of the law that protects the disempowered and marginalized, and that demands that the nation-state rationalize its coercive power. He relentlessly attacks irrational social, economic and political hierarchies, particularly those that give continued vitality to racial inequality in the US today. As such his rule of law is firmly rooted in notions of human rights, and looks askance at soaring inequality in the US. This rule of law protects real people in need of real protection, rather than serving as just another rhetorical instrument in the arsenal of the wealthy and powerful. It also serves, incidentally, as a bedrock foundation for economic development and a tool that can help avoid financial disruptions like that seen in 2008.\"Steven A. Ramirez, author of Lawless Capitalism\"The Rule of Law in the Real World explores and connects legal philosophy, conceptual and normative, as well as historical interpretation and social sciences, policy analysis, and advocacy. It makes insightful and distinctive contributions in each domain. Moreover, it brings them into mutually informing connection. Standard inmates of the disciplines rarely make (or even imagine) such connections, even when their subject - the rule of law - bears the same name. Gowder's achievement is thus far more than a sum of its exemplary parts. It is an all too rare combination of theoretical cogency, normative sophistication and ambition, empirical attentiveness, and real world engagement and pay-off.\"Martin Krygier, Gordon Samuels Professor of Law and Social Theory, and Co-Director, Network for Interdisciplinary Studies of Law, University of New South WalesAbout Graphs Supplemental Materials References and Links BuyAbout the BookThe Rule of Law in the Real World gives a comprehensive new theory of the political and legal ideal known as \"the rule of law\". The rule of law should be understood as the coordinated collective control of power, and matters because it constitutes a morally important kind of social equality. The book develops a case for how those properties should be taken into account in social scientific attempts to measure the rule of law as well as policy efforts to promote it.This highly interdisciplinary work begins with analytic political philosophy, developing a distinctively egalitarian account of the rule of law and its moral value. It then moves to history and political science. It shows that states with more egalitarian legal systems are likely to do better at sustaining the rule of law than states with inegalitarian systems. It also shows that the self-understanding of participants in political conflict in real-world historical rule of law states---including democratic Athens and seventeenth-century England---understood the rule of law in egalitarian terms.It then turns to the development enterprise. The book offers a critique of existing empirical measurement strategies for the rule of law as well as an alternative rule of law measure. The new measure is rooted in the philosophical basis of the concept, behaves much as existing theoretical claims about the rule of law would predict (e.g., is highly correlated with economic development: see plots below), and is more readily interpretable than existing measures.In addition, the book explains how the egalitarian account of the rule of law can support interventions in the debate among rule of law development professionals and scholars between advocates of \"bottom-up\" and \"top-down\" development strategies. Finally, The Rule of Law in the Real World calls for the developed states to pay closer attention to promoting and maintaing the rule of law in their own political communities. In particular, it argues that policing in the U.S.---especially the systematic discrimination against African-Americans---is a dire failure of the rule of law.Recently reviewed in Ethics.Paul Gowder is a professor of law and, by courtesy, of political science and philosophy, at the University of Iowa researching constitutional law, ethics, normative and conceptual jurisprudence, political theory, and quantitative legal studies. His areas of speciality (other than the rule of law) include Classical Athenian law, contemporary liberal political philosophy, game theory, predictive modeling, and computational law. He holds a J.D. from Harvard University and a Ph.D. in political science from Stanford University. Before joining academia, he worked as a public interest litigator practicing poverty and civil rights law in Oregon and Virginia.Map of Rule of Law Scores by Country See the Book on Cambridge University PressDarker colors are higher rule of law scores. White countries have no scores.About Graphs Supplemental Materials References and Links BuyWhat the Rule of Law Looks LikeMultidimensionalHistogramGlobe with ScoresProperty RightsPolitical PluralismElectoral ProcessDemocracy in 3DGDP Per CapitaIndividual LibertyAbout Graphs Supplemental Materials References and Links BuySupplemental MaterialsDescriptionDownloadDataset: Rule of law scores with correlates per charts aboverol-scores.csvDataset: Simulation data reported in chapter eight (equal law and stability)simul_ds.csv (31.6mb)Code: Simulation code in R (computationally intensive)simulation.RCode: Plots in chapter nine of the book, plus displayed on this website, in Rplots.RTable: Text of survey items used to construct rule of law measure, from World Justice Project 2012 data (actual data per state available only from WJP)WJPitems.pdfNew analysis: A comparison between the rule of law scores from the book and the first principal component of the World Justice Project's eight-factor measurerlrw-wjp.htmlNew analysis and presentation:Further explorations and comparisons with other datasets, plus slides based on this analysis + book as a whole, presented to the ABA Rule of Law Initiative on June 8, 2016aba/Presentation: A slideshow prepared for a 35-minute presentation on The Rule of Law in the Real World (reformatted for the web)slides/About Graphs Supplemental Materials References and Links BuyExternal References and LinksRelated Work by Paul GowderDescriptionBook ReferenceLinkPaper offering a preliminary version of the core normative/conceptual account of the rule of lawPreliminary version of claims developed in chapters one and twoThe Rule of Law and EqualityPaper offering a preliminary version of the account of general law and social equalityPreliminary version of claims developed in chapters two and threeEqual Law in an Unequal WorldPaper offering a preliminary version of the account of the rule of law in Classical AthensPreliminary version of claims developed in chapters five and sixDemocracy, Solidarity and the Rule of Law: Lessons from AthensPaper describing some of the methodological presuppositions of the theory of the rule of lawDefends some of the base-level philosophical claims that ground the book as a wholeInstitutional Values, or How to Say What Democracy isSpin-off paper about how the egalitarian theory of the rule of law can shed light on political corruptionReferenced in chapter oneInstitutional Corruption and the Rule of LawBrief commentary further discussing the relationship between the rule of law and democracyReferenced in chapter eightThe Rule of Law Against Sovereign Immunity in a Democratic StateAnalysis of Plato's Crito in terms of the strength topos of chapter fiveReferenced in chapter fiveWhat the Laws Demand of Socrates---and of UsExternal Data: Rule of Law and Correlates Links referenced in the bookExternal Datasets and Rule of Law MeasuresDescriptionBook ReferenceLinkWorld Justice Project Rule of Law Surveys and Results2012 survey is source for data in chapter nine and this websiteThe World Justice ProjectNardulli, Peyton & Bajjalieh, Conceptualizing and Measuring Rule of Law ConstructsAlternative unidimensional rule of law measure, discussed in chapter nineNardulli, Peyton & Bajjalieh (2013)United Nations Rule of Law Indicators: Implementation Guide and Project ToolsFramework for alternative rule of law measure, discussed in chapter nineU.N. Rule of Law GuideWorld Bank: Worldwide Governance IndicatorsAlternative rule of law measure, discussed in introduction and chapter nineWorldwide Governance IndicatorsFreedom HouseSupplies electoral process, political pluralism, and personal autonomy measures used in validation of chapter nine rule of law indicatorsFreedom HousePolity Project DatasetAlternative source of measures of characteristics related to liberal democracyPolity IVHeritage Foundation Index of Economic FreedomSource of property rights measure used in validation of rule of law measure in chapter nineHeritageTransparency InternationalAdditional data on corruption, relevant to rule of law measurement (considered, but ultimately not used in chapter nine measure)Transparency International: ResearchBertelsmann Stiftung’s Transformation IndexAlternative measures of rule of law and related concepts.BTI IndexComparative Constitutions ProjectAdditional data on de jure content of constitutions across the world (considered, but ultimately not used in chapter nine measure).CCP DataSelected Links Referenced in the BookDescriptionBook ReferenceLinkWorld Bank: Rule of Law Index SpecificationIntroduction, chapter nineWGI: Rule of Law (pdf)BBC World News: Why does Singapore Top So Many Tables?Chapter fourBBC on SingaporeHuffington Post: Saudi Arabia Partying: Elite, Boozy And SecretChapter fourHuffpo on Saudi ArabiaPerseus Digital LibrarySource for a number of English translations referenced in chapters five and sixPerseusTa-Nehisi Coates, \"Nonviolence as Compliance,\" The Atlantic, 4/27/15Chapter eightCoates, 2015Hasso Plattner Institute of Design, Stanford University, \"Use Our Methods\"Chapter nineD-School MethodsParsons Design for Social Innovation and Sustainability Lab at the New SchoolChapter nineDESIS LabDanny Vinik, “An 18-Year-Old Baltimore Rioter Faces a Higher Bail Than the Cop Accused of Murdering Freddie Gray,” New Republic, 5/2/2015ConclusionVinik NROFrank Stoltze, “’Rough Rides’ in Baltimore police cars are ‘Screen Tests’ in LA,” K.P.C.C. radio, 5/2/2015ConclusionStoltze, \"Screen Tests\"Bill Keller, “David Simon on Baltimore’s Anguish,” The Marshall Project, 4/29/2015ConclusionKeller/SimonLarry Celona and Bob Fredericks, “City Housing Puts Workers in Bright Vests in Fear of NYPD Shootings,” New York Post, 5/25/2015ConclusionCelona/FredericksTimothy Williams, “San Francisco Police Officers to Be Dismissed Over Racist Texts,” New York Times, 4/3/2015ConclusionNYT: Racist TextsAleksander Chan, “The Horrible, Bigoted Texts Traded Among San Francisco Police Officers,” Gawker, 3/3/2015ConclusionGawker: Racist TextsRadley Balko, “How Municipalities in St. Louis County, Mo., Profit from Poverty,” The Washington Post, 9/3/2014ConclusionBalko on FergusonCourt Record Reflecting St. Louis County Arrest Warrant StatisticsConclusionMO Table 95Spencer Ackerman, “The Disappeared: Chicago Police Detain Americans at Abuse-Laden ‘Black Site’,” The Guardian, 2/24/2015ConclusionGuardian on Chicago Black SiteAbout Graphs Supplemental Materials References and Links BuyBuy the Book\n",
      "Buy from Cambridge University Press     Buy from Amazon     Buy from Apple iBooks storeThanks for tools and resources used in the creation of this site: Book cover image created by Vero Rose SmithInteractive plots coded in R using Rstudio and enhanced + served by PlotlyWebsite based on the Skeleton CSS framework and written with Atomthe rule of law in the real world, by paul gowder | book published by cambridge university press, 2016 | website by authorTweet\n"
     ]
    }
   ],
   "source": [
    "# let's do an experiment and make sure this works right\n",
    "import requests\n",
    "response = requests.get(\"http://rulelaw.net\")\n",
    "print(extract_text(response.text))"
   ]
  },
  {
   "cell_type": "markdown",
   "metadata": {},
   "source": [
    "Actually, this is ugly.  After the data finishes downloading, if cases come out this ugly too, I might break out jsoup or some other parser that does a better job getting text out of these things."
   ]
  },
  {
   "cell_type": "code",
   "execution_count": 15,
   "metadata": {
    "collapsed": true
   },
   "outputs": [],
   "source": [
    "import glob\n",
    "jsons = list(glob.glob(\"supcourt/*.json\"))"
   ]
  },
  {
   "cell_type": "code",
   "execution_count": 16,
   "metadata": {
    "collapsed": false
   },
   "outputs": [
    {
     "data": {
      "text/plain": [
       "63967"
      ]
     },
     "execution_count": 16,
     "metadata": {},
     "output_type": "execute_result"
    }
   ],
   "source": [
    "len(jsons)"
   ]
  },
  {
   "cell_type": "code",
   "execution_count": 17,
   "metadata": {
    "collapsed": true
   },
   "outputs": [],
   "source": [
    "import json"
   ]
  },
  {
   "cell_type": "code",
   "execution_count": 19,
   "metadata": {
    "collapsed": false
   },
   "outputs": [],
   "source": [
    "with open(jsons[0]) as j:\n",
    "    example = json.load(j)"
   ]
  },
  {
   "cell_type": "code",
   "execution_count": 20,
   "metadata": {
    "collapsed": false
   },
   "outputs": [
    {
     "name": "stdout",
     "output_type": "stream",
     "text": [
      "{'resource_uri': 'http://www.courtlistener.com/api/rest/v3/opinions/100000/', 'absolute_url': '/opinion/100000/morrisdale-coal-co-v-united-states/', 'cluster': 'http://www.courtlistener.com/api/rest/v3/clusters/100000/', 'author': 'http://www.courtlistener.com/api/rest/v3/people/1501/', 'joined_by': [], 'author_str': '', 'per_curiam': False, 'date_created': '2010-04-28T16:47:22Z', 'date_modified': '2017-03-24T04:07:08.420443Z', 'type': '010combined', 'sha1': 'f966678c479af550803b000aecea9d1f16897a6a', 'page_count': None, 'download_url': None, 'local_path': None, 'plain_text': '', 'html': '<p class=\"case_cite\">259 U.S. 188</p>\\n    <p class=\"case_cite\">42 S.Ct. 481</p>\\n    <p class=\"case_cite\">66 L.Ed. 892</p>\\n    <p class=\"parties\">MORRISDALE COAL CO.<br>v.<br>UNITED STATES.</p>\\n    <p class=\"docket\">No. 65.</p>\\n    <p class=\"date\">Argued Jan. 6-9, 1922.</p>\\n    <p class=\"date\">Decided May 29, 1922.</p>\\n    <div class=\"prelims\">\\n      <p class=\"indent\">Messrs. Gibbs L. Baker and Karl Knox Gartner, both of Washington, D. C., for appellant.</p>\\n      <p class=\"indent\">Mr. Assistant Attorney General Riter, for the United States.</p>\\n      <p class=\"indent\">Mr. Justice HOLMES delivered the opinion of the Court.</p>\\n    </div>\\n    <div class=\"num\" id=\"p1\">\\n      <span class=\"num\">1</span>\\n      <p class=\"indent\">This is an appeal from a judgment of the Court of Claims dismissing the appellant\\'s petition upon demurrer. The petition alleges that the claimant had outstanding contracts calling for more than the actual production of its mines for the months of June and following through November, 1918, at a price of $4.50 per gross ton; that the Fuel Administration appointed by the President during the war \\'requisitioned and compelled petitioner to divert 12,823.29 tons of coal\\' during the period mentioned; that the price received for this coal was $3.304 per gross ton, and that the claimant thereby suffered a loss of $15,337.37, for which loss it asks judgment against the United States.</p>\\n    </div>\\n    <div class=\"num\" id=\"p2\">\\n      <span class=\"num\">2</span>\\n      <p class=\"indent\">The petition does not allege or mean that the United States took the coal to its own use. The meaning attributed to it by the claimant is merely that the Fuel Administration fixed the price on coal of this quality at $3.304 per gross ton and issued orders from time to time directing coal to such employments as best would promote the prosecution of the war. The Fuel Administration acted under a delegation from the President of the power conferred upon him by the Act of August 10, 1917, c. 53, &#167; 25, 40 Stat. 276, 284 (Comp. St. 1918, Comp. St. Ann. Supp. 1919, &#167; 3115 1/8 q), to fix the price of coal and to regulate distribution of it among dealers and consumers; the price so fixed not to invalidate contracts previously made in good faith in which prices are fixed. 40 Stat. 286. The claimant does not argue that this section provides compensation for obedience to orders made in pursuance of the same; it agrees, and rightly, that its remedy, if any, is under section 145 of the Judicial Code (Comp. St. &#167; 1136), giving the Court of Claims jurisdiction of claims upon any contract, express or implied, with the Government. It contends that upon the facts stated a contract on the part of the Government must be implied, both from the statute and by virtue of the Fifth Amendment on the ground that its property was taken for public use.</p>\\n    </div>\\n    <div class=\"num\" id=\"p3\">\\n      <span class=\"num\">3</span>\\n      <p class=\"indent\">We see no ground for the claim. The claimant in consequence of the regulation mentioned sold some of its coal to other parties at a less price than what otherwise it would have got. That is all. It now seeks to hold the Government answerable for making a rule that it saw fit to obey. Whether the rule was valid or void no such consequence follows. Making the rule was not a taking and no lawmaking power promises by implication to make good losses that may be incurred by obedience to its commands. If the law requires a party to give up property to a third person without adequate compensation the remedy is, if necessary, to refuse to obey it, not to sue the lawmaker. The statute provides remedies against the Government in other cases, but the claimant argues that this case does not fall within them, and it did not follow the steps prescribed for them. The petition does not even allege that the price the claimant got was not a fair one but only that if the Government had not issued the regulation it would have got more under its contract. Considerably more than that is needed before a promise of indemnity from the Government can be implied. See American Smelting &amp; Refining Co. v. United States, 259 U. S. 75, 42 Sup. Ct. 420, 66 L. Ed. &#8212;&#8212;, May 15, 1922.</p>\\n    </div>\\n    <div class=\"num\" id=\"p4\">\\n      <span class=\"num\">4</span>\\n      <p class=\"indent\">Judgment affirmed.</p>\\n    </div>\\n    ', 'html_lawbox': '<div>\\n<center><b>259 U.S. 188 (1922)</b></center>\\n<center><h1>MORRISDALE COAL COMPANY<br>\\nv.<br>\\nUNITED STATES.</h1></center>\\n<center>No. 65.</center>\\n<center><p><b>Supreme Court of United States.</b></p></center>\\n<center>Argued January 6, 9, 1922.</center>\\n<center>Decided May 29, 1922.</center>\\nAPPEAL FROM THE COURT OF CLAIMS.\\n<p><span class=\"star-pagination\">*189</span> <i>Mr. Gibbs L. Baker,</i> with whom <i>Mr. Karl Knox Gartner</i> was on the brief, for appellant.</p>\\n<p><i>Mr. Assistant Attorney General Riter,</i> with whom <i>Mr. Solicitor General Beck</i> and <i>Mr. Charles S. Lawrence</i> were on the brief, for the United States.</p>\\n<p>MR. JUSTICE HOLMES delivered the opinion of the court.</p>\\n<p>This is an appeal from a judgment of the Court of Claims dismissing the appellant\\'s petition upon demurrer. The petition alleges that the claimant had outstanding contracts calling for more than the actual production of its mines for the months of June and following through November, 1918, at a price of $4.50 per gross ton; that the Fuel Administration appointed by the President during the war \"requisitioned and compelled petitioner to divert 12,823.89 tons of coal\" during the period mentioned; that the price received for this coal was $3.304 per gross ton, and that the claimant thereby suffered a loss of $15,337.37, for which loss it asks judgment against the United States.</p>\\n<p>The petition does not allege or mean that the United States took the coal to its own use. The meaning attributed to it by the claimant is merely that the Fuel Administration fixed the price on coal of this quality at $3.304 per gross ton and issued orders from time to time directing coal to such employments as best would promote the prosecution of the war. The Fuel Administration acted under a delegation from the President of the power conferred upon him by the Act of August 10, 1917, c. 53, § 25, 40 Stat. 276, 284, to fix the price of coal and to regulate distribution <span class=\"star-pagination\">*190</span> of it among dealers and consumers; the price so fixed not to invalidate contracts previously made in good faith in which prices are fixed. 40 Stat. 286. The claimant does not argue that this section provides compensation for obedience to orders made in pursuance of the same; it agrees, and rightly, that its remedy, if any, is under § 145 of the Judicial Code giving the Court of Claims jurisdiction of claims upon any contract, express or implied, with the Government. It contends that upon the facts stated a contract on the part of the Government must be implied, both from the statute and by virtue of the Fifth Amendment on the ground that its property was taken for public use.</p>\\n<p>We see no ground for the claim. The claimant in consequence of the regulation mentioned sold some of its coal to other parties at a less price than what otherwise it would have got. That is all. It now seeks to hold the Government answerable for making a rule that it saw fit to obey. Whether the rule was valid or void no such consequence follows. Making the rule was not a taking and no lawmaking power promises by implication to make good losses that may be incurred by obedience to its commands. If the law requires a party to give up property to a third person without adequate compensation the remedy is, if necessary, to refuse to obey it, not to sue the lawmaker. The statute provides remedies against the Government in other cases, but the claimant argues that this case does not fall within them, and it did not follow the steps prescribed for them. The petition does not even allege that the price the claimant got was not a fair one but only that if the Government had not issued the regulation it would have got more under its contract. Considerably more than that is needed before a promise of indemnity from the Government can be implied. See <i>American Smelting &amp; Refining Co.</i> v. <i>United States, ante,</i> 75.</p>\\n<p><i>Judgment affirmed.</i></p>\\n</div>', 'html_columbia': None, 'html_with_citations': '<div>\\n<center><b><span class=\"citation no-link\"><span class=\"volume\">259</span> <span class=\"reporter\">U.S.</span> <span class=\"page\">188</span></span> (1922)</b></center>\\n<center><h1>MORRISDALE COAL COMPANY<br>\\nv.<br>\\nUNITED STATES.</h1></center>\\n<center>No. 65.</center>\\n<center><p><b>Supreme Court of United States.</b></p></center>\\n<center>Argued January 6, 9, 1922.</center>\\n<center>Decided May 29, 1922.</center>\\nAPPEAL FROM THE COURT OF CLAIMS.\\n<p><span class=\"star-pagination\">*189</span> <i>Mr. Gibbs L. Baker,</i> with whom <i>Mr. Karl Knox Gartner</i> was on the brief, for appellant.</p>\\n<p><i>Mr. Assistant Attorney General Riter,</i> with whom <i>Mr. Solicitor General Beck</i> and <i>Mr. Charles S. Lawrence</i> were on the brief, for the United States.</p>\\n<p>MR. JUSTICE HOLMES delivered the opinion of the court.</p>\\n<p>This is an appeal from a judgment of the Court of Claims dismissing the appellant\\'s petition upon demurrer. The petition alleges that the claimant had outstanding contracts calling for more than the actual production of its mines for the months of June and following through November, 1918, at a price of $4.50 per gross ton; that the Fuel Administration appointed by the President during the war \"requisitioned and compelled petitioner to divert 12,823.89 tons of coal\" during the period mentioned; that the price received for this coal was $3.304 per gross ton, and that the claimant thereby suffered a loss of $15,337.37, for which loss it asks judgment against the United States.</p>\\n<p>The petition does not allege or mean that the United States took the coal to its own use. The meaning attributed to it by the claimant is merely that the Fuel Administration fixed the price on coal of this quality at $3.304 per gross ton and issued orders from time to time directing coal to such employments as best would promote the prosecution of the war. The Fuel Administration acted under a delegation from the President of the power conferred upon him by the Act of August 10, 1917, c. 53, § 25, 40 Stat. 276, 284, to fix the price of coal and to regulate distribution <span class=\"star-pagination\">*190</span> of it among dealers and consumers; the price so fixed not to invalidate contracts previously made in good faith in which prices are fixed. 40 Stat. 286. The claimant does not argue that this section provides compensation for obedience to orders made in pursuance of the same; it agrees, and rightly, that its remedy, if any, is under § 145 of the Judicial Code giving the Court of Claims jurisdiction of claims upon any contract, express or implied, with the Government. It contends that upon the facts stated a contract on the part of the Government must be implied, both from the statute and by virtue of the Fifth Amendment on the ground that its property was taken for public use.</p>\\n<p>We see no ground for the claim. The claimant in consequence of the regulation mentioned sold some of its coal to other parties at a less price than what otherwise it would have got. That is all. It now seeks to hold the Government answerable for making a rule that it saw fit to obey. Whether the rule was valid or void no such consequence follows. Making the rule was not a taking and no lawmaking power promises by implication to make good losses that may be incurred by obedience to its commands. If the law requires a party to give up property to a third person without adequate compensation the remedy is, if necessary, to refuse to obey it, not to sue the lawmaker. The statute provides remedies against the Government in other cases, but the claimant argues that this case does not fall within them, and it did not follow the steps prescribed for them. The petition does not even allege that the price the claimant got was not a fair one but only that if the Government had not issued the regulation it would have got more under its contract. Considerably more than that is needed before a promise of indemnity from the Government can be implied. See <i>American Smelting &amp; Refining Co.</i> v. <i>United States, ante,</i> 75.</p>\\n<p><i>Judgment affirmed.</i></p>\\n</div>', 'extracted_by_ocr': False, 'opinions_cited': []}\n"
     ]
    }
   ],
   "source": [
    "print(example)"
   ]
  },
  {
   "cell_type": "code",
   "execution_count": 21,
   "metadata": {
    "collapsed": false
   },
   "outputs": [
    {
     "name": "stdout",
     "output_type": "stream",
     "text": [
      "dict_keys(['resource_uri', 'absolute_url', 'cluster', 'author', 'joined_by', 'author_str', 'per_curiam', 'date_created', 'date_modified', 'type', 'sha1', 'page_count', 'download_url', 'local_path', 'plain_text', 'html', 'html_lawbox', 'html_columbia', 'html_with_citations', 'extracted_by_ocr', 'opinions_cited'])\n"
     ]
    }
   ],
   "source": [
    "print(example.keys())"
   ]
  },
  {
   "cell_type": "code",
   "execution_count": 22,
   "metadata": {
    "collapsed": false
   },
   "outputs": [
    {
     "name": "stdout",
     "output_type": "stream",
     "text": [
      "\n"
     ]
    }
   ],
   "source": [
    "print(example[\"plain_text\"])"
   ]
  },
  {
   "cell_type": "code",
   "execution_count": 23,
   "metadata": {
    "collapsed": false
   },
   "outputs": [
    {
     "name": "stdout",
     "output_type": "stream",
     "text": [
      "259 U.S. 188\n",
      "42 S.Ct. 481\n",
      "66 L.Ed. 892\n",
      "MORRISDALE COAL CO.v.UNITED STATES.\n",
      "No. 65.\n",
      "Argued Jan. 6-9, 1922.\n",
      "Decided May 29, 1922.\n",
      "\n",
      "Messrs. Gibbs L. Baker and Karl Knox Gartner, both of Washington, D. C., for appellant.\n",
      "Mr. Assistant Attorney General Riter, for the United States.\n",
      "Mr. Justice HOLMES delivered the opinion of the Court.\n",
      "\n",
      "\n",
      "1\n",
      "This is an appeal from a judgment of the Court of Claims dismissing the appellant's petition upon demurrer. The petition alleges that the claimant had outstanding contracts calling for more than the actual production of its mines for the months of June and following through November, 1918, at a price of $4.50 per gross ton; that the Fuel Administration appointed by the President during the war 'requisitioned and compelled petitioner to divert 12,823.29 tons of coal' during the period mentioned; that the price received for this coal was $3.304 per gross ton, and that the claimant thereby suffered a loss of $15,337.37, for which loss it asks judgment against the United States.\n",
      "\n",
      "\n",
      "2\n",
      "The petition does not allege or mean that the United States took the coal to its own use. The meaning attributed to it by the claimant is merely that the Fuel Administration fixed the price on coal of this quality at $3.304 per gross ton and issued orders from time to time directing coal to such employments as best would promote the prosecution of the war. The Fuel Administration acted under a delegation from the President of the power conferred upon him by the Act of August 10, 1917, c. 53, § 25, 40 Stat. 276, 284 (Comp. St. 1918, Comp. St. Ann. Supp. 1919, § 3115 1/8 q), to fix the price of coal and to regulate distribution of it among dealers and consumers; the price so fixed not to invalidate contracts previously made in good faith in which prices are fixed. 40 Stat. 286. The claimant does not argue that this section provides compensation for obedience to orders made in pursuance of the same; it agrees, and rightly, that its remedy, if any, is under section 145 of the Judicial Code (Comp. St. § 1136), giving the Court of Claims jurisdiction of claims upon any contract, express or implied, with the Government. It contends that upon the facts stated a contract on the part of the Government must be implied, both from the statute and by virtue of the Fifth Amendment on the ground that its property was taken for public use.\n",
      "\n",
      "\n",
      "3\n",
      "We see no ground for the claim. The claimant in consequence of the regulation mentioned sold some of its coal to other parties at a less price than what otherwise it would have got. That is all. It now seeks to hold the Government answerable for making a rule that it saw fit to obey. Whether the rule was valid or void no such consequence follows. Making the rule was not a taking and no lawmaking power promises by implication to make good losses that may be incurred by obedience to its commands. If the law requires a party to give up property to a third person without adequate compensation the remedy is, if necessary, to refuse to obey it, not to sue the lawmaker. The statute provides remedies against the Government in other cases, but the claimant argues that this case does not fall within them, and it did not follow the steps prescribed for them. The petition does not even allege that the price the claimant got was not a fair one but only that if the Government had not issued the regulation it would have got more under its contract. Considerably more than that is needed before a promise of indemnity from the Government can be implied. See American Smelting & Refining Co. v. United States, 259 U. S. 75, 42 Sup. Ct. 420, 66 L. Ed. ——, May 15, 1922.\n",
      "\n",
      "\n",
      "4\n",
      "Judgment affirmed.\n",
      "\n",
      "\n"
     ]
    }
   ],
   "source": [
    "print(extract_text(example[\"html\"]))"
   ]
  },
  {
   "cell_type": "code",
   "execution_count": 24,
   "metadata": {
    "collapsed": true
   },
   "outputs": [],
   "source": [
    "import re\n",
    "example_text = extract_text(example[\"html\"])"
   ]
  },
  {
   "cell_type": "code",
   "execution_count": 26,
   "metadata": {
    "collapsed": false
   },
   "outputs": [],
   "source": [
    "test_despace = re.sub('\\s+', \" \", example_text)"
   ]
  },
  {
   "cell_type": "code",
   "execution_count": 27,
   "metadata": {
    "collapsed": false
   },
   "outputs": [
    {
     "name": "stdout",
     "output_type": "stream",
     "text": [
      "259 U.S. 188 42 S.Ct. 481 66 L.Ed. 892 MORRISDALE COAL CO.v.UNITED STATES. No. 65. Argued Jan. 6-9, 1922. Decided May 29, 1922. Messrs. Gibbs L. Baker and Karl Knox Gartner, both of Washington, D. C., for appellant. Mr. Assistant Attorney General Riter, for the United States. Mr. Justice HOLMES delivered the opinion of the Court. 1 This is an appeal from a judgment of the Court of Claims dismissing the appellant's petition upon demurrer. The petition alleges that the claimant had outstanding contracts calling for more than the actual production of its mines for the months of June and following through November, 1918, at a price of $4.50 per gross ton; that the Fuel Administration appointed by the President during the war 'requisitioned and compelled petitioner to divert 12,823.29 tons of coal' during the period mentioned; that the price received for this coal was $3.304 per gross ton, and that the claimant thereby suffered a loss of $15,337.37, for which loss it asks judgment against the United States. 2 The petition does not allege or mean that the United States took the coal to its own use. The meaning attributed to it by the claimant is merely that the Fuel Administration fixed the price on coal of this quality at $3.304 per gross ton and issued orders from time to time directing coal to such employments as best would promote the prosecution of the war. The Fuel Administration acted under a delegation from the President of the power conferred upon him by the Act of August 10, 1917, c. 53, § 25, 40 Stat. 276, 284 (Comp. St. 1918, Comp. St. Ann. Supp. 1919, § 3115 1/8 q), to fix the price of coal and to regulate distribution of it among dealers and consumers; the price so fixed not to invalidate contracts previously made in good faith in which prices are fixed. 40 Stat. 286. The claimant does not argue that this section provides compensation for obedience to orders made in pursuance of the same; it agrees, and rightly, that its remedy, if any, is under section 145 of the Judicial Code (Comp. St. § 1136), giving the Court of Claims jurisdiction of claims upon any contract, express or implied, with the Government. It contends that upon the facts stated a contract on the part of the Government must be implied, both from the statute and by virtue of the Fifth Amendment on the ground that its property was taken for public use. 3 We see no ground for the claim. The claimant in consequence of the regulation mentioned sold some of its coal to other parties at a less price than what otherwise it would have got. That is all. It now seeks to hold the Government answerable for making a rule that it saw fit to obey. Whether the rule was valid or void no such consequence follows. Making the rule was not a taking and no lawmaking power promises by implication to make good losses that may be incurred by obedience to its commands. If the law requires a party to give up property to a third person without adequate compensation the remedy is, if necessary, to refuse to obey it, not to sue the lawmaker. The statute provides remedies against the Government in other cases, but the claimant argues that this case does not fall within them, and it did not follow the steps prescribed for them. The petition does not even allege that the price the claimant got was not a fair one but only that if the Government had not issued the regulation it would have got more under its contract. Considerably more than that is needed before a promise of indemnity from the Government can be implied. See American Smelting & Refining Co. v. United States, 259 U. S. 75, 42 Sup. Ct. 420, 66 L. Ed. ——, May 15, 1922. 4 Judgment affirmed. \n"
     ]
    }
   ],
   "source": [
    "print(test_despace)"
   ]
  },
  {
   "cell_type": "code",
   "execution_count": 30,
   "metadata": {
    "collapsed": false
   },
   "outputs": [
    {
     "data": {
      "text/plain": [
       "\"259 U.S. 188 42 S.Ct. 481 66 L.Ed. 892 MORRISDALE COAL CO.v.UNITED STATES. No. 65. Argued Jan. 6-9, 1922. Decided May 29, 1922. Messrs. Gibbs L. Baker and Karl Knox Gartner, both of Washington, D. C., for appellant. Mr. Assistant Attorney General Riter, for the United States. Mr. Justice HOLMES delivered the opinion of the Court. 1 This is an appeal from a judgment of the Court of Claims dismissing the appellant's petition upon demurrer. The petition alleges that the claimant had outstanding contracts calling for more than the actual production of its mines for the months of June and following through November, 1918, at a price of $4.50 per gross ton; that the Fuel Administration appointed by the President during the war 'requisitioned and compelled petitioner to divert 12,823.29 tons of coal' during the period mentioned; that the price received for this coal was $3.304 per gross ton, and that the claimant thereby suffered a loss of $15,337.37, for which loss it asks judgment against the United States. 2 The petition does not allege or mean that the United States took the coal to its own use. The meaning attributed to it by the claimant is merely that the Fuel Administration fixed the price on coal of this quality at $3.304 per gross ton and issued orders from time to time directing coal to such employments as best would promote the prosecution of the war. The Fuel Administration acted under a delegation from the President of the power conferred upon him by the Act of August 10, 1917, c. 53,  25, 40 Stat. 276, 284 (Comp. St. 1918, Comp. St. Ann. Supp. 1919,  3115 1/8 q), to fix the price of coal and to regulate distribution of it among dealers and consumers; the price so fixed not to invalidate contracts previously made in good faith in which prices are fixed. 40 Stat. 286. The claimant does not argue that this section provides compensation for obedience to orders made in pursuance of the same; it agrees, and rightly, that its remedy, if any, is under section 145 of the Judicial Code (Comp. St.  1136), giving the Court of Claims jurisdiction of claims upon any contract, express or implied, with the Government. It contends that upon the facts stated a contract on the part of the Government must be implied, both from the statute and by virtue of the Fifth Amendment on the ground that its property was taken for public use. 3 We see no ground for the claim. The claimant in consequence of the regulation mentioned sold some of its coal to other parties at a less price than what otherwise it would have got. That is all. It now seeks to hold the Government answerable for making a rule that it saw fit to obey. Whether the rule was valid or void no such consequence follows. Making the rule was not a taking and no lawmaking power promises by implication to make good losses that may be incurred by obedience to its commands. If the law requires a party to give up property to a third person without adequate compensation the remedy is, if necessary, to refuse to obey it, not to sue the lawmaker. The statute provides remedies against the Government in other cases, but the claimant argues that this case does not fall within them, and it did not follow the steps prescribed for them. The petition does not even allege that the price the claimant got was not a fair one but only that if the Government had not issued the regulation it would have got more under its contract. Considerably more than that is needed before a promise of indemnity from the Government can be implied. See American Smelting & Refining Co. v. United States, 259 U. S. 75, 42 Sup. Ct. 420, 66 L. Ed. , May 15, 1922. 4 Judgment affirmed. \""
      ]
     },
     "execution_count": 30,
     "metadata": {},
     "output_type": "execute_result"
    }
   ],
   "source": [
    "test_despace.encode(\"ascii\", errors=\"ignore\").decode(\"ascii\")"
   ]
  },
  {
   "cell_type": "code",
   "execution_count": 41,
   "metadata": {
    "collapsed": false
   },
   "outputs": [],
   "source": [
    "import string\n",
    "transdict = {ord(x): \" \" for x in string.punctuation + string.digits}\n",
    "def squish_spaces(text):\n",
    "    return re.sub('\\s+', \" \", text)\n",
    "\n",
    "def asciify(text):\n",
    "    return text.encode(\"ascii\", errors=\"ignore\").decode(\"ascii\")\n",
    "\n",
    "def remove_nonletter(text):\n",
    "    return text.translate(transdict)\n",
    "\n",
    "def cleanup(text):\n",
    "    return squish_spaces(remove_nonletter(asciify(text))).lower()"
   ]
  },
  {
   "cell_type": "code",
   "execution_count": 42,
   "metadata": {
    "collapsed": false
   },
   "outputs": [
    {
     "name": "stdout",
     "output_type": "stream",
     "text": [
      " u s s ct l ed morrisdale coal co v united states no argued jan decided may messrs gibbs l baker and karl knox gartner both of washington d c for appellant mr assistant attorney general riter for the united states mr justice holmes delivered the opinion of the court this is an appeal from a judgment of the court of claims dismissing the appellant s petition upon demurrer the petition alleges that the claimant had outstanding contracts calling for more than the actual production of its mines for the months of june and following through november at a price of per gross ton that the fuel administration appointed by the president during the war requisitioned and compelled petitioner to divert tons of coal during the period mentioned that the price received for this coal was per gross ton and that the claimant thereby suffered a loss of for which loss it asks judgment against the united states the petition does not allege or mean that the united states took the coal to its own use the meaning attributed to it by the claimant is merely that the fuel administration fixed the price on coal of this quality at per gross ton and issued orders from time to time directing coal to such employments as best would promote the prosecution of the war the fuel administration acted under a delegation from the president of the power conferred upon him by the act of august c stat comp st comp st ann supp q to fix the price of coal and to regulate distribution of it among dealers and consumers the price so fixed not to invalidate contracts previously made in good faith in which prices are fixed stat the claimant does not argue that this section provides compensation for obedience to orders made in pursuance of the same it agrees and rightly that its remedy if any is under section of the judicial code comp st giving the court of claims jurisdiction of claims upon any contract express or implied with the government it contends that upon the facts stated a contract on the part of the government must be implied both from the statute and by virtue of the fifth amendment on the ground that its property was taken for public use we see no ground for the claim the claimant in consequence of the regulation mentioned sold some of its coal to other parties at a less price than what otherwise it would have got that is all it now seeks to hold the government answerable for making a rule that it saw fit to obey whether the rule was valid or void no such consequence follows making the rule was not a taking and no lawmaking power promises by implication to make good losses that may be incurred by obedience to its commands if the law requires a party to give up property to a third person without adequate compensation the remedy is if necessary to refuse to obey it not to sue the lawmaker the statute provides remedies against the government in other cases but the claimant argues that this case does not fall within them and it did not follow the steps prescribed for them the petition does not even allege that the price the claimant got was not a fair one but only that if the government had not issued the regulation it would have got more under its contract considerably more than that is needed before a promise of indemnity from the government can be implied see american smelting refining co v united states u s sup ct l ed may judgment affirmed \n"
     ]
    }
   ],
   "source": [
    "print(cleanup(example_text))"
   ]
  },
  {
   "cell_type": "code",
   "execution_count": 47,
   "metadata": {
    "collapsed": true
   },
   "outputs": [],
   "source": [
    "def extract_clean_text(casedict):\n",
    "    if casedict[\"plain_text\"]:\n",
    "        text = casedict[\"plain_text\"]\n",
    "    else:\n",
    "        text = extract_text(casedict[\"html\"])\n",
    "    return cleanup(text)"
   ]
  },
  {
   "cell_type": "code",
   "execution_count": 48,
   "metadata": {
    "collapsed": false
   },
   "outputs": [
    {
     "name": "stdout",
     "output_type": "stream",
     "text": [
      " u s s ct l ed pine hill coal co inc v united states no argued jan decided may mr henry s drinker jr of philadephia pa for appellant argument of counsel from pages intentionally omitted mr assistant attorney general riter for the united states mr justice holmes delivered the opinion of the court this case like morrisdale coal co v united states u s sup ct l ed is a claim based upon the action of the fuel administration under the act of august c stat comp st comp st ann supp q fixing prices for coal the allegations and arguments however are different the transactions of the claimant from and including september through january are set forth in detail they embrace large sales at government prices and smaller sales at other than those prices it is alleged that the prices fixed for the claimant s coal were unjust and unreasonable and did not afford just compensation and that as a result of keeping to them as the claimant did the receipts were actually less than the cost of production on these facts the petition sets up a contract of indemnity on the part of the united states arising out of the language to be quoted from section it was dismissed on demurrer by the court of claims the paragraph of section that is relied upon follows paragraphs giving authority to the president personally or through the federal trade commission to fix the price of coal and coke to regulate the method of distribution among dealers and consumers during the war and if a producer or dealer neglects to conform to such prices or regulations etc to take over the plant and business paying a just compensation the paragraph in question reads that if the prices so fixed or if in the case of the taking over or requisitioning of the mines or business of any such producer or dealer the compensation therefor as determined by the provisions of this act be not satisfactory to the person or persons entitled to receive the same such person shall be paid seventy five per centum of the amount so determined and shall be entitled to sue the united states to recover such further sum as added to said seventy five per centum will make up such amount as will be just compensation in the manner provided by section twenty four paragraph twenty and section one hundred and forty five of the judicial code the latter section of the judicial code comp st is the one that gives jurisdiction to the court of claims and the former that which gives a limited concurrent jurisdiction to the district courts it is obvious that the words as they stand cannot be applied to sales by producers to third persons for it would be absurd to suppose that the united states undertook to pay not only such additional sum as might be awarded but also the last per centum of the price as fixed leaving the buyer to retain that amount the claimant admits this but insists that however read the pragraph cannot be followed without correction it argues that the opening words if the price so fixed necessarily apply to prices in general as fixed by the power just given in the section therefore it says there should be interpolated in the provision that the seller shall be paid per centum the words the prices so fixed or and in like manner that the provision for recovery should read that he shall recover such sum as added to the said prices or said per centum will be just it points out that while seeking to stimulate production in aid of the war the government could not fix very high prices without arousing householders and manufacturers or very low ones without endangering the supply and incurring the charge of confiscation it is said that the natural way out of the difficulty was for the government to guarantee a just return and that by so doing it avoided doubts as to the constitutionality of the statute there is offered a critical and refined scrutiny of the history of the amendment that introduced the claim the argument is that the section that became section when originally offered as an amendment clearly provided for payment in all cases that a modification was introduced for payment of only per centum upon takings by the united states but that it was not intended to change the general scope of the relief other makeweights are thrown in to which we think it unnecessary to advert it is a delicate business to base speculations about the purposes or construction of a statute upon the vicissitudes of its passage here we have as against the arguments of the claimant the fundamental and necessarily governing consideration that rightly prevailed below a liability in any case is not to be imposed upon a government without clear words but liability for a regulation for the consequences of a law on the part of the legislating power is most unusual and where as here the liability would mount to great sums only the plainest language could warrant a court in taking it to be imposed the general words the prices so fixed taken by themselves no doubt would include prices to private purchasers but the specific provision as to paying per centum prevails over them on the usual principles of construction and excludes a reference to any prices except those paid by the government it is said that those prices are provided for elsewhere but the claimant s argument presses the consideration that the law had to be hastily passed and unnecessary reduplication is far more easy to admit than an enormous charge upon the united states that can be fastened upon it only by inserting into a statute words that are not there judgment affirmed \n"
     ]
    }
   ],
   "source": [
    "with open(jsons[1]) as j:\n",
    "    print(extract_clean_text(json.load(j)))"
   ]
  },
  {
   "cell_type": "code",
   "execution_count": 50,
   "metadata": {
    "collapsed": false
   },
   "outputs": [],
   "source": [
    "from os import path\n",
    "# let's make some texts now.\n",
    "for jfile in jsons:\n",
    "    with open(jfile) as j:\n",
    "        text = extract_clean_text(json.load(j))\n",
    "    filename = path.split(jfile)[-1]\n",
    "    outfile = \"texts/\" + filename.partition(\".\")[0] + \".txt\"\n",
    "    with open(outfile, \"w\") as o:\n",
    "        o.write(text)"
   ]
  },
  {
   "cell_type": "code",
   "execution_count": 51,
   "metadata": {
    "collapsed": true
   },
   "outputs": [],
   "source": [
    "texts = list(glob.glob(\"texts/*.txt\"))"
   ]
  },
  {
   "cell_type": "code",
   "execution_count": 52,
   "metadata": {
    "collapsed": false
   },
   "outputs": [
    {
     "data": {
      "text/plain": [
       "63967"
      ]
     },
     "execution_count": 52,
     "metadata": {},
     "output_type": "execute_result"
    }
   ],
   "source": [
    "len(texts)"
   ]
  },
  {
   "cell_type": "code",
   "execution_count": 54,
   "metadata": {
    "collapsed": false
   },
   "outputs": [
    {
     "name": "stdout",
     "output_type": "stream",
     "text": [
      " u s s ct l ed morrisdale coal co v united states no argued jan decided may messrs gibbs l baker and karl knox gartner both of washington d c for appellant mr assistant attorney general riter for the united states mr justice holmes delivered the opinion of the court this is an appeal from a judgment of the court of claims dismissing the appellant s petition upon demurrer the petition alleges that the claimant had outstanding contracts calling for more than the actual production of its mines for the months of june and following through november at a price of per gross ton that the fuel administration appointed by the president during the war requisitioned and compelled petitioner to divert tons of coal during the period mentioned that the price received for this coal was per gross ton and that the claimant thereby suffered a loss of for which loss it asks judgment against the united states the petition does not allege or mean that the united states took the coal to its own use the meaning attributed to it by the claimant is merely that the fuel administration fixed the price on coal of this quality at per gross ton and issued orders from time to time directing coal to such employments as best would promote the prosecution of the war the fuel administration acted under a delegation from the president of the power conferred upon him by the act of august c stat comp st comp st ann supp q to fix the price of coal and to regulate distribution of it among dealers and consumers the price so fixed not to invalidate contracts previously made in good faith in which prices are fixed stat the claimant does not argue that this section provides compensation for obedience to orders made in pursuance of the same it agrees and rightly that its remedy if any is under section of the judicial code comp st giving the court of claims jurisdiction of claims upon any contract express or implied with the government it contends that upon the facts stated a contract on the part of the government must be implied both from the statute and by virtue of the fifth amendment on the ground that its property was taken for public use we see no ground for the claim the claimant in consequence of the regulation mentioned sold some of its coal to other parties at a less price than what otherwise it would have got that is all it now seeks to hold the government answerable for making a rule that it saw fit to obey whether the rule was valid or void no such consequence follows making the rule was not a taking and no lawmaking power promises by implication to make good losses that may be incurred by obedience to its commands if the law requires a party to give up property to a third person without adequate compensation the remedy is if necessary to refuse to obey it not to sue the lawmaker the statute provides remedies against the government in other cases but the claimant argues that this case does not fall within them and it did not follow the steps prescribed for them the petition does not even allege that the price the claimant got was not a fair one but only that if the government had not issued the regulation it would have got more under its contract considerably more than that is needed before a promise of indemnity from the government can be implied see american smelting refining co v united states u s sup ct l ed may judgment affirmed \n"
     ]
    }
   ],
   "source": [
    "with open(texts[0]) as t:\n",
    "    print(t.read())"
   ]
  },
  {
   "cell_type": "code",
   "execution_count": null,
   "metadata": {
    "collapsed": true
   },
   "outputs": [],
   "source": []
  }
 ],
 "metadata": {
  "kernelspec": {
   "display_name": "lawvec-fixed",
   "language": "python",
   "name": "lawvec-fixed"
  },
  "language_info": {
   "codemirror_mode": {
    "name": "ipython",
    "version": 3
   },
   "file_extension": ".py",
   "mimetype": "text/x-python",
   "name": "python",
   "nbconvert_exporter": "python",
   "pygments_lexer": "ipython3",
   "version": "3.6.3"
  }
 },
 "nbformat": 4,
 "nbformat_minor": 0
}
