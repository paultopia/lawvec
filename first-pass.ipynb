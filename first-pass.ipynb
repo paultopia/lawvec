{
 "cells": [
  {
   "cell_type": "code",
   "execution_count": 1,
   "metadata": {
    "collapsed": false
   },
   "outputs": [
    {
     "name": "stdout",
     "output_type": "stream",
     "text": [
      "3.6.3 (default, Nov 13 2017, 08:48:07) \n",
      "[GCC 4.2.1 Compatible Apple LLVM 8.0.0 (clang-800.0.42.1)]\n"
     ]
    }
   ],
   "source": [
    "import sys\n",
    "print(sys.version)"
   ]
  },
  {
   "cell_type": "code",
   "execution_count": 2,
   "metadata": {
    "collapsed": true
   },
   "outputs": [],
   "source": [
    "import gensim"
   ]
  },
  {
   "cell_type": "markdown",
   "metadata": {},
   "source": [
    "I'm going to work with the Courtlistener Supreme Court opinions dataset, found at [https://www.courtlistener.com/api/bulk-data/opinions/scotus.tar.gz](https://www.courtlistener.com/api/bulk-data/opinions/scotus.tar.gz) --- they're a nonprofit without a lot of bandwidth, so leave a good half an hour to download it even on a fast connection --- which has been previously downloaded into supcourt and then unzipped into a bunch of individual case jsons in supcourt/scotus/ "
   ]
  },
  {
   "cell_type": "markdown",
   "metadata": {},
   "source": [
    "If you look at the data, you'll see that each JSON has a \"html\" field with a html-ized version of the opinion, as well as a \"plain_text\" field... but that the latter is sometimes empty.  So in order to extract texts, we'll try and get it out of plain_text first; if there's no plain text, we'll use beautiful soup to extract from html (or from several other alternate html fields)"
   ]
  },
  {
   "cell_type": "code",
   "execution_count": 13,
   "metadata": {
    "collapsed": true
   },
   "outputs": [],
   "source": [
    "from bs4 import BeautifulSoup\n",
    "def extract_text(html):\n",
    "    soup = BeautifulSoup(html, \"lxml\")\n",
    "    for crap in soup([\"script\", \"style\", \"meta\"]):\n",
    "        crap.extract()\n",
    "    return soup.get_text()"
   ]
  },
  {
   "cell_type": "code",
   "execution_count": 14,
   "metadata": {
    "collapsed": false
   },
   "outputs": [
    {
     "name": "stdout",
     "output_type": "stream",
     "text": [
      "The Rule of Law in the Real WorldThe Rule of Law in the Real WorldPaul Gowder\"Paul Gowder's masterpiece articulates a new vision of the rule of the law that protects the disempowered and marginalized, and that demands that the nation-state rationalize its coercive power. He relentlessly attacks irrational social, economic and political hierarchies, particularly those that give continued vitality to racial inequality in the US today. As such his rule of law is firmly rooted in notions of human rights, and looks askance at soaring inequality in the US. This rule of law protects real people in need of real protection, rather than serving as just another rhetorical instrument in the arsenal of the wealthy and powerful. It also serves, incidentally, as a bedrock foundation for economic development and a tool that can help avoid financial disruptions like that seen in 2008.\"Steven A. Ramirez, author of Lawless Capitalism\"The Rule of Law in the Real World explores and connects legal philosophy, conceptual and normative, as well as historical interpretation and social sciences, policy analysis, and advocacy. It makes insightful and distinctive contributions in each domain. Moreover, it brings them into mutually informing connection. Standard inmates of the disciplines rarely make (or even imagine) such connections, even when their subject - the rule of law - bears the same name. Gowder's achievement is thus far more than a sum of its exemplary parts. It is an all too rare combination of theoretical cogency, normative sophistication and ambition, empirical attentiveness, and real world engagement and pay-off.\"Martin Krygier, Gordon Samuels Professor of Law and Social Theory, and Co-Director, Network for Interdisciplinary Studies of Law, University of New South WalesAbout Graphs Supplemental Materials References and Links BuyAbout the BookThe Rule of Law in the Real World gives a comprehensive new theory of the political and legal ideal known as \"the rule of law\". The rule of law should be understood as the coordinated collective control of power, and matters because it constitutes a morally important kind of social equality. The book develops a case for how those properties should be taken into account in social scientific attempts to measure the rule of law as well as policy efforts to promote it.This highly interdisciplinary work begins with analytic political philosophy, developing a distinctively egalitarian account of the rule of law and its moral value. It then moves to history and political science. It shows that states with more egalitarian legal systems are likely to do better at sustaining the rule of law than states with inegalitarian systems. It also shows that the self-understanding of participants in political conflict in real-world historical rule of law states---including democratic Athens and seventeenth-century England---understood the rule of law in egalitarian terms.It then turns to the development enterprise. The book offers a critique of existing empirical measurement strategies for the rule of law as well as an alternative rule of law measure. The new measure is rooted in the philosophical basis of the concept, behaves much as existing theoretical claims about the rule of law would predict (e.g., is highly correlated with economic development: see plots below), and is more readily interpretable than existing measures.In addition, the book explains how the egalitarian account of the rule of law can support interventions in the debate among rule of law development professionals and scholars between advocates of \"bottom-up\" and \"top-down\" development strategies. Finally, The Rule of Law in the Real World calls for the developed states to pay closer attention to promoting and maintaing the rule of law in their own political communities. In particular, it argues that policing in the U.S.---especially the systematic discrimination against African-Americans---is a dire failure of the rule of law.Recently reviewed in Ethics.Paul Gowder is a professor of law and, by courtesy, of political science and philosophy, at the University of Iowa researching constitutional law, ethics, normative and conceptual jurisprudence, political theory, and quantitative legal studies. His areas of speciality (other than the rule of law) include Classical Athenian law, contemporary liberal political philosophy, game theory, predictive modeling, and computational law. He holds a J.D. from Harvard University and a Ph.D. in political science from Stanford University. Before joining academia, he worked as a public interest litigator practicing poverty and civil rights law in Oregon and Virginia.Map of Rule of Law Scores by Country See the Book on Cambridge University PressDarker colors are higher rule of law scores. White countries have no scores.About Graphs Supplemental Materials References and Links BuyWhat the Rule of Law Looks LikeMultidimensionalHistogramGlobe with ScoresProperty RightsPolitical PluralismElectoral ProcessDemocracy in 3DGDP Per CapitaIndividual LibertyAbout Graphs Supplemental Materials References and Links BuySupplemental MaterialsDescriptionDownloadDataset: Rule of law scores with correlates per charts aboverol-scores.csvDataset: Simulation data reported in chapter eight (equal law and stability)simul_ds.csv (31.6mb)Code: Simulation code in R (computationally intensive)simulation.RCode: Plots in chapter nine of the book, plus displayed on this website, in Rplots.RTable: Text of survey items used to construct rule of law measure, from World Justice Project 2012 data (actual data per state available only from WJP)WJPitems.pdfNew analysis: A comparison between the rule of law scores from the book and the first principal component of the World Justice Project's eight-factor measurerlrw-wjp.htmlNew analysis and presentation:Further explorations and comparisons with other datasets, plus slides based on this analysis + book as a whole, presented to the ABA Rule of Law Initiative on June 8, 2016aba/Presentation: A slideshow prepared for a 35-minute presentation on The Rule of Law in the Real World (reformatted for the web)slides/About Graphs Supplemental Materials References and Links BuyExternal References and LinksRelated Work by Paul GowderDescriptionBook ReferenceLinkPaper offering a preliminary version of the core normative/conceptual account of the rule of lawPreliminary version of claims developed in chapters one and twoThe Rule of Law and EqualityPaper offering a preliminary version of the account of general law and social equalityPreliminary version of claims developed in chapters two and threeEqual Law in an Unequal WorldPaper offering a preliminary version of the account of the rule of law in Classical AthensPreliminary version of claims developed in chapters five and sixDemocracy, Solidarity and the Rule of Law: Lessons from AthensPaper describing some of the methodological presuppositions of the theory of the rule of lawDefends some of the base-level philosophical claims that ground the book as a wholeInstitutional Values, or How to Say What Democracy isSpin-off paper about how the egalitarian theory of the rule of law can shed light on political corruptionReferenced in chapter oneInstitutional Corruption and the Rule of LawBrief commentary further discussing the relationship between the rule of law and democracyReferenced in chapter eightThe Rule of Law Against Sovereign Immunity in a Democratic StateAnalysis of Plato's Crito in terms of the strength topos of chapter fiveReferenced in chapter fiveWhat the Laws Demand of Socrates---and of UsExternal Data: Rule of Law and Correlates Links referenced in the bookExternal Datasets and Rule of Law MeasuresDescriptionBook ReferenceLinkWorld Justice Project Rule of Law Surveys and Results2012 survey is source for data in chapter nine and this websiteThe World Justice ProjectNardulli, Peyton & Bajjalieh, Conceptualizing and Measuring Rule of Law ConstructsAlternative unidimensional rule of law measure, discussed in chapter nineNardulli, Peyton & Bajjalieh (2013)United Nations Rule of Law Indicators: Implementation Guide and Project ToolsFramework for alternative rule of law measure, discussed in chapter nineU.N. Rule of Law GuideWorld Bank: Worldwide Governance IndicatorsAlternative rule of law measure, discussed in introduction and chapter nineWorldwide Governance IndicatorsFreedom HouseSupplies electoral process, political pluralism, and personal autonomy measures used in validation of chapter nine rule of law indicatorsFreedom HousePolity Project DatasetAlternative source of measures of characteristics related to liberal democracyPolity IVHeritage Foundation Index of Economic FreedomSource of property rights measure used in validation of rule of law measure in chapter nineHeritageTransparency InternationalAdditional data on corruption, relevant to rule of law measurement (considered, but ultimately not used in chapter nine measure)Transparency International: ResearchBertelsmann Stiftung’s Transformation IndexAlternative measures of rule of law and related concepts.BTI IndexComparative Constitutions ProjectAdditional data on de jure content of constitutions across the world (considered, but ultimately not used in chapter nine measure).CCP DataSelected Links Referenced in the BookDescriptionBook ReferenceLinkWorld Bank: Rule of Law Index SpecificationIntroduction, chapter nineWGI: Rule of Law (pdf)BBC World News: Why does Singapore Top So Many Tables?Chapter fourBBC on SingaporeHuffington Post: Saudi Arabia Partying: Elite, Boozy And SecretChapter fourHuffpo on Saudi ArabiaPerseus Digital LibrarySource for a number of English translations referenced in chapters five and sixPerseusTa-Nehisi Coates, \"Nonviolence as Compliance,\" The Atlantic, 4/27/15Chapter eightCoates, 2015Hasso Plattner Institute of Design, Stanford University, \"Use Our Methods\"Chapter nineD-School MethodsParsons Design for Social Innovation and Sustainability Lab at the New SchoolChapter nineDESIS LabDanny Vinik, “An 18-Year-Old Baltimore Rioter Faces a Higher Bail Than the Cop Accused of Murdering Freddie Gray,” New Republic, 5/2/2015ConclusionVinik NROFrank Stoltze, “’Rough Rides’ in Baltimore police cars are ‘Screen Tests’ in LA,” K.P.C.C. radio, 5/2/2015ConclusionStoltze, \"Screen Tests\"Bill Keller, “David Simon on Baltimore’s Anguish,” The Marshall Project, 4/29/2015ConclusionKeller/SimonLarry Celona and Bob Fredericks, “City Housing Puts Workers in Bright Vests in Fear of NYPD Shootings,” New York Post, 5/25/2015ConclusionCelona/FredericksTimothy Williams, “San Francisco Police Officers to Be Dismissed Over Racist Texts,” New York Times, 4/3/2015ConclusionNYT: Racist TextsAleksander Chan, “The Horrible, Bigoted Texts Traded Among San Francisco Police Officers,” Gawker, 3/3/2015ConclusionGawker: Racist TextsRadley Balko, “How Municipalities in St. Louis County, Mo., Profit from Poverty,” The Washington Post, 9/3/2014ConclusionBalko on FergusonCourt Record Reflecting St. Louis County Arrest Warrant StatisticsConclusionMO Table 95Spencer Ackerman, “The Disappeared: Chicago Police Detain Americans at Abuse-Laden ‘Black Site’,” The Guardian, 2/24/2015ConclusionGuardian on Chicago Black SiteAbout Graphs Supplemental Materials References and Links BuyBuy the Book\n",
      "Buy from Cambridge University Press     Buy from Amazon     Buy from Apple iBooks storeThanks for tools and resources used in the creation of this site: Book cover image created by Vero Rose SmithInteractive plots coded in R using Rstudio and enhanced + served by PlotlyWebsite based on the Skeleton CSS framework and written with Atomthe rule of law in the real world, by paul gowder | book published by cambridge university press, 2016 | website by authorTweet\n"
     ]
    }
   ],
   "source": [
    "# let's do an experiment and make sure this works right\n",
    "import requests\n",
    "response = requests.get(\"http://rulelaw.net\")\n",
    "print(extract_text(response.text))"
   ]
  },
  {
   "cell_type": "markdown",
   "metadata": {},
   "source": [
    "Actually, this is ugly.  After the data finishes downloading, if cases come out this ugly too, I might break out jsoup or some other parser that does a better job getting text out of these things."
   ]
  },
  {
   "cell_type": "code",
   "execution_count": null,
   "metadata": {
    "collapsed": true
   },
   "outputs": [],
   "source": []
  }
 ],
 "metadata": {
  "kernelspec": {
   "display_name": "lawvec-fixed",
   "language": "python",
   "name": "lawvec-fixed"
  },
  "language_info": {
   "codemirror_mode": {
    "name": "ipython",
    "version": 3
   },
   "file_extension": ".py",
   "mimetype": "text/x-python",
   "name": "python",
   "nbconvert_exporter": "python",
   "pygments_lexer": "ipython3",
   "version": "3.6.3"
  }
 },
 "nbformat": 4,
 "nbformat_minor": 0
}
