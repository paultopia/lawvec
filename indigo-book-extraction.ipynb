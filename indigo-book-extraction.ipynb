{
 "cells": [
  {
   "cell_type": "code",
   "execution_count": 1,
   "metadata": {
    "collapsed": true
   },
   "outputs": [],
   "source": [
    "with open(\"indigo-book.html\") as ib:\n",
    "    indigo = ib.read()"
   ]
  },
  {
   "cell_type": "code",
   "execution_count": 3,
   "metadata": {
    "collapsed": false
   },
   "outputs": [],
   "source": [
    "from bs4 import BeautifulSoup\n",
    "isoup = BeautifulSoup(indigo, \"lxml\")"
   ]
  },
  {
   "cell_type": "code",
   "execution_count": 4,
   "metadata": {
    "collapsed": false
   },
   "outputs": [
    {
     "data": {
      "text/plain": [
       "33"
      ]
     },
     "execution_count": 4,
     "metadata": {},
     "output_type": "execute_result"
    }
   ],
   "source": [
    "tables = isoup.findAll(\"table\")\n",
    "len(tables)"
   ]
  },
  {
   "cell_type": "code",
   "execution_count": 13,
   "metadata": {
    "collapsed": true
   },
   "outputs": [],
   "source": [
    "def extract_text_from_row(rowsoup):\n",
    "    cells = rowsoup.findAll(\"td\")\n",
    "    return [cell.get_text() for cell in cells]\n",
    "\n",
    "from copy import copy\n",
    "import json\n",
    "class TableData(object):\n",
    "    def __init__(self, table_soup):\n",
    "        table = copy(table_soup) # I'd really like to be able to get the original text as I experiment without mutating it.\n",
    "        header = table.find(\"thead\")\n",
    "        self.headings = [th.get_text() for th in header.find(\"tr\").findAll(\"th\")]\n",
    "        header.extract()\n",
    "        rows = table.findAll(\"tr\")\n",
    "        print(len(rows))\n",
    "        self.innerdata = [extract_text_from_row(row) for row in rows]\n",
    "        \n",
    "    def headers(self):\n",
    "        return self.headings\n",
    "    \n",
    "    def width(self):\n",
    "        return len(self.headings)\n",
    "    \n",
    "    def data(self):\n",
    "        return self.innerdata\n",
    "    \n",
    "    def table(self):\n",
    "        return {\"headers\": self.headings, \"data\": self.innerdata, \"width\": len(self.headings)}"
   ]
  },
  {
   "cell_type": "code",
   "execution_count": 14,
   "metadata": {
    "collapsed": false
   },
   "outputs": [
    {
     "name": "stdout",
     "output_type": "stream",
     "text": [
      "11\n",
      "5\n",
      "5\n",
      "9\n",
      "2\n",
      "2\n",
      "3\n",
      "81\n",
      "164\n",
      "1568\n",
      "5\n",
      "144\n",
      "34\n",
      "21\n",
      "11\n",
      "16\n",
      "21\n",
      "13\n",
      "35\n",
      "111\n",
      "21\n",
      "183\n",
      "69\n",
      "23\n",
      "222\n",
      "44\n",
      "40\n",
      "78\n",
      "28\n",
      "12\n",
      "200\n",
      "77\n",
      "79\n"
     ]
    }
   ],
   "source": [
    "all_tables = [TableData(table).table() for table in tables]"
   ]
  },
  {
   "cell_type": "code",
   "execution_count": 15,
   "metadata": {
    "collapsed": false
   },
   "outputs": [
    {
     "data": {
      "text/plain": [
       "33"
      ]
     },
     "execution_count": 15,
     "metadata": {},
     "output_type": "execute_result"
    }
   ],
   "source": [
    "len(all_tables)"
   ]
  },
  {
   "cell_type": "code",
   "execution_count": 17,
   "metadata": {
    "collapsed": false
   },
   "outputs": [
    {
     "data": {
      "text/plain": [
       "{'data': [['Bureau of National Affairs', 'BNA'],\n",
       "  ['Commerce Clearing House', 'CCH'],\n",
       "  ['Matthew Bender', 'MB'],\n",
       "  ['Pike & Fischer', 'P & F'],\n",
       "  ['Research Institute of America', 'RIA']],\n",
       " 'headers': ['Service Publisher Name', 'Abbreviation'],\n",
       " 'width': 2}"
      ]
     },
     "execution_count": 17,
     "metadata": {},
     "output_type": "execute_result"
    }
   ],
   "source": [
    "all_tables[10]"
   ]
  },
  {
   "cell_type": "code",
   "execution_count": 19,
   "metadata": {
    "collapsed": false
   },
   "outputs": [],
   "source": [
    "with open(\"first-pass-indigo-table-extraction.json\", \"w\") as fpj:\n",
    "    json.dump(all_tables, fpj)"
   ]
  },
  {
   "cell_type": "code",
   "execution_count": null,
   "metadata": {
    "collapsed": true
   },
   "outputs": [],
   "source": []
  }
 ],
 "metadata": {
  "kernelspec": {
   "display_name": "lawvec-fixed",
   "language": "python",
   "name": "lawvec-fixed"
  },
  "language_info": {
   "codemirror_mode": {
    "name": "ipython",
    "version": 3
   },
   "file_extension": ".py",
   "mimetype": "text/x-python",
   "name": "python",
   "nbconvert_exporter": "python",
   "pygments_lexer": "ipython3",
   "version": "3.6.3"
  }
 },
 "nbformat": 4,
 "nbformat_minor": 0
}
